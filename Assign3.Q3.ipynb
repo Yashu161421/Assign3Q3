{
 "cells": [
  {
   "cell_type": "code",
   "execution_count": 1,
   "id": "8c222b2d",
   "metadata": {},
   "outputs": [
    {
     "name": "stdout",
     "output_type": "stream",
     "text": [
      "Enter a string :'The quick Brox Fox'\n",
      "no.of upper case characters : 3\n",
      "no.of lower case characters : 12\n"
     ]
    }
   ],
   "source": [
    "def count_case(string):\n",
    "    upper_count = 0\n",
    "    lower_count = 0\n",
    "    \n",
    "    for char in string:\n",
    "        if char.isupper():\n",
    "            upper_count +=1\n",
    "        elif char.islower():\n",
    "            lower_count +=1\n",
    "            \n",
    "    print(\"no.of upper case characters :\",upper_count)\n",
    "    print(\"no.of lower case characters :\",lower_count)\n",
    "\n",
    "\n",
    "string = input(\"Enter a string :\")\n",
    "\n",
    "count_case(string)\n"
   ]
  },
  {
   "cell_type": "code",
   "execution_count": null,
   "id": "09a19c8a",
   "metadata": {},
   "outputs": [],
   "source": []
  }
 ],
 "metadata": {
  "kernelspec": {
   "display_name": "Python 3 (ipykernel)",
   "language": "python",
   "name": "python3"
  },
  "language_info": {
   "codemirror_mode": {
    "name": "ipython",
    "version": 3
   },
   "file_extension": ".py",
   "mimetype": "text/x-python",
   "name": "python",
   "nbconvert_exporter": "python",
   "pygments_lexer": "ipython3",
   "version": "3.11.3"
  }
 },
 "nbformat": 4,
 "nbformat_minor": 5
}
